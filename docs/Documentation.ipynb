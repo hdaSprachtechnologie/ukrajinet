{
 "cells": [
  {
   "attachments": {},
   "cell_type": "markdown",
   "metadata": {},
   "source": [
    "# Ukrajinet\n",
    "\n",
    "## Vorhaben\n",
    "Wordnets sind eine nützliche lexikalische Ressource für eine Vielzahl von Sprachtechnologieanwendungen.\n",
    "Ukrainisch ist eine Sprache mit noch wenigen linguistischen Ressourcen und ist noch nicht im [Open Multilingual Wordnet](https://github.com/globalwordnet/OMW) (OMW) enthalten. \n",
    "\n",
    "Um ein ukraninisches Wordnet (Ukrajinet) zu realisieren, wird der \"merge\"-Ansatz (Vossen, 1998) verfolgt – dabei werden sprachspezifische Ressourcen erstellt und dann mit dem [Princeton Wordnet](https://wordnet.princeton.edu/) (PWN) [^1] verknüpft.\n",
    "Für Urkajinet wird als sprachspezifische Ressource das \"Dictionary of physical synonymous terms\" (Vakulenko und Vakulenko 2017) als Informationsquelle genutzt.\n",
    "Die Informationen werden automatisch aus diesem Wörterbuch (und später aus anderen Ressourcen) extrahiert, aber die Begriffe, Synsets und Beziehungen werden manuell kuratiert.\n",
    "Ukrajinet wird dazu beitragen, die ukrainische Sprache in mehrsprachige Szenarien der natürlichen Sprachverarbeitung einzubinden, die Informationen über lexikalisch-semantische Beziehungen benötigen.\n",
    "\n",
    "[^1]: zu PWM oder OMW? Warum PMW?"
   ]
  },
  {
   "attachments": {},
   "cell_type": "markdown",
   "metadata": {},
   "source": [
    "## Grundlegendes & Vokabular"
   ]
  },
  {
   "attachments": {},
   "cell_type": "markdown",
   "metadata": {},
   "source": [
    "Die Wordnet-Schemata sind wie folgt strukturiert:\n",
    "| Item | Definition |\n",
    "|---|---|\n",
    "| **LexicalResource** | The root element of the resource is the lexical resource |\n",
    "| **Lexicon** | Each WordNet has a lexicon for each resource, which has a name, an ID and a language. The language is given as a BCP 47 tag . |\n",
    "| **Lexical Entry** | Each 'word' is termed a lexical entry, it has exactly one lemma, at least one sense and any number of syntactic behaviors. |\n",
    "| **Lemma** | The lemma has a written form and part-of-speech, which may be one of noun, verb, adjective, adverb, phrase, sentence or unknown. |\n",
    "| **Sense** | The sense has any number of sense relations and a synset. |\n",
    "| **Synset** | The synset has an optional definition and any number of sense relations |\n",
    "| **Definition** | The definition is given in the language of the WordNet it came from as well as the ILI definition (in English). A definition may also have a statement that gives an example |\n",
    "| **Synset/Sense Relation** | A relation from a given list of relations such as synonym, hypernym, antonym. This list defines the relations used by the Global Wordnet Grid, and all the relations are documented on the Global Wordnet Association website. |\n",
    "| **Syntactic Behavior** | A syntactic behavior (verb frame) gives the subcategorization frame in plain text, such as ``Sam and Sue %s the movie''. |\n",
    "| **Meta** | Dublin Core properties may be added to lexicons, lexical entries, senses and synsets. |\n"
   ]
  },
  {
   "attachments": {},
   "cell_type": "markdown",
   "metadata": {},
   "source": [
    "Es gibt verschiedene Schemata um diese Struktur maschinenlesbar zu machen.\n",
    "**XML**: basiert auf dem Lexical Markup Framework (Vossen et al., 2013, LMF)  \n",
    "```XML\n",
    "<?xml version=\"1.0\" encoding=\"UTF-8\"?>\n",
    "<!DOCTYPE LexicalResource SYSTEM \"http://globalwordnet.github.io/schemas/WN-LMF.dtd\">\n",
    "<LexicalResource>\n",
    "    <Lexicon label=\"Princeton WordNet\" language=\"en\">\n",
    "        <LexicalEntry id=\"w1\">\n",
    "            <Lemma writtenForm=\"wordnet\" partOfSpeech=\"n\"/>\n",
    "            <Sense id=\"106652077-n-1\" synset=\"106652077-n\"/>\n",
    "        </LexicalEntry>\n",
    "        <Synset id=\"106652077-n\" ili=\"s35545\">\n",
    "        <Definition\n",
    "            gloss=\"any of the...\"\n",
    "            iliDef=\"any of the...\"/>\n",
    "        <SynsetRelation relType=\"hypernym\" target=\"106651393-n\"/>\n",
    "        </Synset>\n",
    "        <Meta publisher=\"Princeton University\"\n",
    "                rights=\"http://wordnet.princeton.edu/wordnet/license/\"/>\n",
    "    </Lexicon>\n",
    "</LexicalResource>\n",
    "```  \n",
    "**JSON LD**: Lexicon Model for Ontologies (McCrae et al., 2012, lemon)  \n",
    "```JSON\n",
    "{ \n",
    "    \"@context\": [ \"http://globalwordnet.github.io/schemas/wn-json-context.json\",\n",
    "    { \"@language\": \"en\" } ],\n",
    "    \"@id\": \"pwn30\",\n",
    "    \"label\": \"Princeton WordNet\",\n",
    "    \"language\": \"en\",\n",
    "    \"publisher\": \"Princeton University\",\n",
    "    \"rights\": \"wordnetlicense:\",\n",
    "    \"entry\": [{\n",
    "        \"@id\" : \"w1\",\n",
    "        \"lemma\": { \"writtenForm\": \"wordnet\" },\n",
    "        \"partOfSpeech\": \"wn:noun\",\n",
    "        \"sense\": [{\n",
    "            \"@id\": \"106652077-n-1\",\n",
    "            \"synset\": {\n",
    "            \"@id\": \"106652077-n\",\n",
    "            \"ili\": \"s35545\",\n",
    "            \"definition\": {\n",
    "                \"gloss\": \"any of the...\" ,\n",
    "                \"iliDef\": \"any of the...\"\n",
    "            },\n",
    "            \"hypernym\": [\"106651393-n\"]\n",
    "            }\n",
    "        }]\n",
    "    }]\n",
    "}\n",
    "```"
   ]
  },
  {
   "attachments": {},
   "cell_type": "markdown",
   "metadata": {},
   "source": [
    "## Musterbeispiel\n",
    "**Ein Eintrag aus dem deutschsprachigen Wordnet**:  \n",
    "\n",
    "```XML\n",
    "<LexicalEntry id=\"w1\"><Lemma writtenForm=\"Kernspaltung\" partOfSpeech=\"n\"/><Sense id=\"w1_1-n\" synset=\"odenet-1-n\"/></LexicalEntry>\n",
    "<LexicalEntry id=\"w2\"><Lemma writtenForm=\"Kernfission\" partOfSpeech=\"n\"/><Sense id=\"w2_1-n\" synset=\"odenet-1-n\"/></LexicalEntry>\n",
    "<LexicalEntry id=\"w3\"><Lemma writtenForm=\"Atomspaltung\" partOfSpeech=\"n\"/><Sense id=\"w3_1-n\" synset=\"odenet-1-n\"/></LexicalEntry>\n",
    "<LexicalEntry id=\"w4\"><Lemma writtenForm=\"Fission\" partOfSpeech=\"n\"/><Sense id=\"w4_1-n\" synset=\"odenet-1-n\"/><Sense id=\"w4_4905-n\" synset=\"odenet-4905-n\"/></LexicalEntry>\n",
    "```\n",
    "Der dazugehörige Synset-Eintrag\n",
    "```XML\n",
    "<Synset id=\"odenet-1-n\" ili=\"i107577\" partOfSpeech=\"n\" dc:description=\"a nuclear reaction in which a massive nucleus splits into smaller nuclei with the simultaneous release of energy\"><SynsetRelation target='odenet-5437-n' relType='hypernym'/></Synset>\n",
    "```  \n",
    "\n",
    "Der ```LexicalEntry``` mit der ```id=w4``` hat ein weiteres Synset angegeben:  \n",
    "\n",
    "```XML\n",
    "<Synset id=\"odenet-4905-n\" ili=\"i107417\" partOfSpeech=\"n\" dc:description=\"(embryology) the repeated division of a fertilised ovum\"><SynsetRelation target='odenet-12012-n' relType='holo_part'/></Synset>\n",
    "```"
   ]
  },
  {
   "attachments": {},
   "cell_type": "markdown",
   "metadata": {},
   "source": [
    "# AP 1  \n",
    "(Übernommen aus Antragsformular)  \n",
    "\n",
    "Die erste Version von Ukrajinet wurde automatisch aus dem „Dictionary of Physical Synonymous Terms“ erzeugt, es wurden automatisch Informationen über syntaktische Kategorien hinzugefügt.\n",
    "Dazu kamen Links zum OMW, die mithilfe automatischer Übersetzung erzeugt wurden. \n",
    "Es enthält ca. 8.500 lexikalische Einträge und 3.345 Synsets aus der Domäne „Physik“. \n",
    "573 der Synsets haben multilinguale Links bekommen. \n",
    "*Diese gilt es im ersten Schritt zu prüfen **(1.1).***\n",
    "Dabei ist eine Unterstützung mit automatischen Methoden denkbar, wie der Vergleich der syntaktischen Kategorien oder auch die Einbeziehung weiterer Wordnets. \n",
    "*Für die Synsets, die keine multilingualen Links erhalten haben, muss eruiert werden, ob es andere Möglichkeiten gibt, diese Links zu erstellen (wie automatische Übersetzung aus anderen Wordnets) **(1.2)**.*\n",
    "*Wordnets sind geprägt von semantischen Relationen wie Hyperonymie, Antonymie oder auch Derivation. Hyperonymie ist im „Dictionary of Physical Synonymous Terms“ enthalten, wurde aber im ersten Schritt ignoriert und muss nun hinzugefügt werden **(1.3)**.* \n",
    "*Im Fall von Synsets, die einen multilingualen Link enthalten, können semantische Relationen aus anderen Wordnets übernommen werden **(1.4).***\n",
    "*Weitere Verfahren für weitere Relationen werden entwickelt **(1.5).***\n",
    "*Im nächsten Schritt müssen Definitionen für die Synsets hinzugefügt werden **(1.6).***\n",
    "Diese können aus dem “Explanatory Dictionary on Physics” (Vakulenko and Vakulenko 2008) extrahiert werden. \n",
    "Dafür müssen Verfahren zur Disambiguierung ambiger Terme entwickelt werden, sodass die Definitionen richtig zugeordnet werden.\n",
    "*Schließlich benötigen die Synset-Einträge Verwendungsbeispiele, die aus Textkorpora extrahiert werden könnten **(1.7)**.*\n",
    "\n",
    "Zusammengefasst:  \n",
    "* 1.1: Multilinguale Links der Synsets prüfen  \n",
    "* 1.2: Methoden eruieren, um Synsets, die keine multilingualen Links bekommen, trotzdem mit Links zu versehen (bspw. durch automatische Übersetzung aus anderen Wordnets)   \n",
    "* 1.3: Hyperonymie-Beziehung aus „Dictionary of Physical Synonymous Terms“ zu bestehendem Wordnet hinzufügen  \n",
    "* 1.4: Übernahme von semantischen Relationen aus anderen Wordnets   \n",
    "* 1.5: Entwicklung weiterer Methoden für die Erstellung weiterer semantischer Relationen  \n",
    "* 1.6: Hinzufügen von Definitionen für Synsets  \n",
    "* 1.7: Hinzufügen von Verwendungsbeispielen der Synset-Einträge  \n",
    "\n",
    "**Meilenstein 1:** Ukrajinet 1.0 in der Domäne „Physik“, mit Links zu OMW, Relationen zwischen Synsets,\n",
    "Definitionen und Beispielen"
   ]
  },
  {
   "attachments": {},
   "cell_type": "markdown",
   "metadata": {},
   "source": [
    "# 1. Physical Dictionary to Machine-readable Dictionary"
   ]
  },
  {
   "attachments": {},
   "cell_type": "markdown",
   "metadata": {},
   "source": [
    "## Doc to Txt"
   ]
  },
  {
   "attachments": {},
   "cell_type": "markdown",
   "metadata": {},
   "source": [
    "## Txt to XML\n",
    "\n",
    "Gegeben ist folgendes Input-Format:\n",
    "```\n",
    "абера́ція; спотво́рення; спотво́рювання; [опт.] \n",
    "абера́ція; збо́чення; збо́чування\n",
    "```\n"
   ]
  }
 ],
 "metadata": {
  "language_info": {
   "name": "python"
  },
  "orig_nbformat": 4
 },
 "nbformat": 4,
 "nbformat_minor": 2
}
